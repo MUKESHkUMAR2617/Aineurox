{
 "cells": [
  {
   "cell_type": "markdown",
   "metadata": {},
   "source": [
    "#                                              History of Python"
   ]
  },
  {
   "cell_type": "markdown",
   "metadata": {},
   "source": [
    "Python was conceived in the late 1980s by Guido van Rossum at Centrum Wiskunde & Informatica (CWI) in the Netherlands as a successor to the ABC language (itself inspired by SETL), capable of exception handling and interfacing with the Amoeba operating system. Its implementation began in December 1989. Van Rossum shouldered sole responsibility for the project, as the lead developer, until 12 July 2018, when he announced his \"permanent vacation\" from his responsibilities as Python's Benevolent Dictator For Life, a title the Python community bestowed upon him to reflect his long-term commitment as the project's chief decision-maker. He now shares his leadership as a member of a five-person steering council. In January 2019, active Python core developers elected Brett Cannon, Nick Coghlan, Barry Warsaw, Carol Willing and Van Rossum to a five-member \"Steering Council\" to lead the project."
   ]
  },
  {
   "cell_type": "markdown",
   "metadata": {},
   "source": [
    "\n",
    "एबीसी भाषा के उत्तराधिकारी के रूप में नीदरलैंड में सेंट्रम विस्कंडे एंड इंफोर्मेटा (सीडब्ल्यूआई) में गुइडो वैन रोसुम द्वारा 1980 के दशक के अंत में पायथन की कल्पना की गई थी (जो खुद एसईटीएल से प्रेरित है), जो अमीबा ऑपरेटिंग सिस्टम के साथ अपवाद से निपटने और हस्तक्षेप करने में सक्षम है। इसका कार्यान्वयन दिसंबर 1989 में शुरू हुआ। वैन रोसुम ने 12 जुलाई 2018 तक लीड डेवलपर के रूप में इस परियोजना के लिए पूरी ज़िम्मेदारी संभाली, जब उन्होंने अपनी ज़िम्मेदारियों से परोपकारी तानाशाह के रूप में \"स्थायी छुट्टी\" की घोषणा की, पायथन समुदाय को एक उपाधि दी। परियोजना के मुख्य निर्णय-निर्माता के रूप में अपनी दीर्घकालिक प्रतिबद्धता को दर्शाने के लिए। अब वह अपने नेतृत्व को पांच-व्यक्ति संचालन परिषद के सदस्य के रूप में साझा करता है। जनवरी 2019 में, परियोजना का नेतृत्व करने के लिए सक्रिय पायथन कोर डेवलपर्स ने ब्रेट तोप, निक कॉघलान, बैरी वॉरसॉ, कैरोल विलिंग और वैन रोसुम को पांच सदस्यीय \"स्टीयरिंग काउंसिल\" के लिए चुना।"
   ]
  },
  {
   "cell_type": "markdown",
   "metadata": {},
   "source": [
    "##                                                         Introduction"
   ]
  },
  {
   "cell_type": "markdown",
   "metadata": {},
   "source": [
    "Python is an interpreted, object-oriented, high-level programming language with dynamic semantics. Its high-level built in data structures, combined with dynamic typing and dynamic binding, make it very attractive for Rapid Application Development, as well as for use as a scripting or glue language to connect existing components together. Python's simple, easy to learn syntax emphasizes readability and therefore reduces the cost of program maintenance. Python supports modules and packages, which encourages program modularity and code reuse. The Python interpreter and the extensive standard library are available in source or binary form without charge for all major platforms, and can be freely distributed."
   ]
  },
  {
   "cell_type": "markdown",
   "metadata": {},
   "source": [
    "\n",
    "पायथन एक व्याख्यात्मक, वस्तु-उन्मुख, उच्च स्तरीय प्रोग्रामिंग भाषा है जिसमें गतिशील शब्दार्थ है। डायनामिक टाइपिंग और डायनेमिक बाइंडिंग के साथ संयुक्त डेटा संरचनाओं में निर्मित इसका उच्च-स्तर, रैपिड एप्लिकेशन डेवलपमेंट के लिए बहुत आकर्षक बनाता है, साथ ही मौजूदा घटकों को एक साथ जोड़ने के लिए स्क्रिप्टिंग या गोंद भाषा के रूप में उपयोग करता है। सिंटैक्स सीखने में आसान पायथन सरल, पठनीयता पर जोर देता है और इसलिए कार्यक्रम रखरखाव की लागत को कम करता है। पायथन मॉड्यूल और पैकेज का समर्थन करता है, जो प्रोग्राम मॉड्युलैरिटी और कोड के पुन: उपयोग को प्रोत्साहित करता है। पायथन दुभाषिया और व्यापक मानक पुस्तकालय सभी प्रमुख प्लेटफार्मों के लिए प्रभार के बिना स्रोत या द्विआधारी रूप में उपलब्ध हैं, और स्वतंत्र रूप से वितरित किया जा सकता है।"
   ]
  },
  {
   "cell_type": "markdown",
   "metadata": {},
   "source": [
    "Python is a great general-purpose programming language on its own, but with the help of a few popular libraries (numpy, scipy, matplotlib) it becomes a powerful environment for scientific computing."
   ]
  },
  {
   "cell_type": "markdown",
   "metadata": {},
   "source": [
    "पायथन अपने आप में एक महान सामान्य-उद्देश्यीय प्रोग्रामिंग भाषा है, लेकिन कुछ लोकप्रिय पुस्तकालयों (numpy, scipy, matplotlib) की मदद से यह वैज्ञानिक कंप्यूटिंग के लिए एक शक्तिशाली वातावरण बन जाता है।"
   ]
  },
  {
   "cell_type": "markdown",
   "metadata": {},
   "source": [
    "# Python Version\n",
    "\n",
    "## Python 1.0 all version\n",
    "\n",
    "### Python 1.0 (1994)\n",
    "#### Python 1.5 (1997)\n",
    "#### Python 1.6 (2000)\n",
    "\n",
    "# Python 2\n",
    "\n",
    "## Python 2.0 all version\n",
    "\n",
    "### Python 2.0 (2000)\n",
    "#### Python 2.1 (2001)\n",
    "#### Python 2.2 (2001)\n",
    "#### Python 2.3 (2003)\n",
    "#### Python 2.4 (2004)\n",
    "#### Python 2.5 (2006)\n",
    "#### Python 2.6 (2008)\n",
    "#### Python 2.7 (2010)\n",
    "Published in late 2000, Python 2 signalled a more transparent and inclusive language development process than earlier versions of Python with the implementation of PEP (Python Enhancement Proposal), a technical specification that either provides information to Python community members or describes a new feature of the language.\n",
    "\n",
    "Additionally, Python 2 included many more programmatic features including a cycle-detecting garbage collector to automate memory management, increased Unicode support to standardize characters, and list comprehensions to create a list based on existing lists. As Python 2 continued to develop, more features were added, including unifying Python’s types and classes into one hierarchy in Python version 2.2.\n",
    "\n",
    "\n",
    "2000 के अंत में प्रकाशित, पायथन 2 ने PEP (पायथन एन्हांसमेंट प्रपोजल) के कार्यान्वयन के साथ पायथन के पहले के संस्करणों की तुलना में अधिक पारदर्शी और समावेशी भाषा विकास प्रक्रिया का संकेत दिया, एक तकनीकी विनिर्देश जो या तो पायथन समुदाय के सदस्यों को जानकारी प्रदान करता है या एक नई सुविधा का वर्णन करता है भाषा: हिन्दी।\n",
    "\n",
    "इसके अतिरिक्त, पायथन 2 में मेमोरी प्रबंधन को स्वचालित करने के लिए एक चक्र-पता लगाने वाले कचरा कलेक्टर सहित कई और प्रोग्रामेटिक सुविधाएँ शामिल हैं, पात्रों को मानकीकृत करने के लिए यूनिकोड समर्थन और मौजूदा सूची के आधार पर सूची बनाने के लिए सूची बोध। जैसे-जैसे पायथन 2 का विकास जारी रहा, पायथन के संस्करण २.२ में एक पदानुक्रम में पायथन के प्रकारों और वर्गों को एकीकृत करने सहित और अधिक सुविधाएँ जोड़ी गईं।\n",
    "\n",
    "\n",
    "## Python 3\n",
    "\n",
    "### Python 3.0 (2008)\n",
    "#### Python 3.1 (2009)\n",
    "#### Python 3.2 (2011)\n",
    "#### Python 3.3 (2012)\n",
    "#### Python 3.4 (2014)\n",
    "#### Python 3.6.5 (28th March 2018)\n",
    "#### Python 3.7.0 (27th June 2018)\n",
    "#### Python 3.8.5 (20th July 2020)\n",
    "\n",
    "Python 3 is regarded as the future of Python and is the version of the language that is currently in development. A major overhaul, Python 3 was released in late 2008 to address and amend intrinsic design flaws of previous versions of the language. The focus of Python 3 development was to clean up the codebase and remove redundancy, making it clear that there was only one way to perform a given task.\n",
    "\n",
    "Major modifications to Python 3.0 included changing the print statement into a built-in function, improve the way integers are divided, and providing more Unicode support.\n",
    "\n",
    "At first, Python 3 was slowly adopted due to the language not being backwards compatible with Python 2, requiring people to make a decision as to which version of the language to use. Additionally, many package libraries were only available for Python 2, but as the development team behind Python 3 has reiterated that there is an end of life for Python 2 support, more libraries have been ported to Python 3. The increased adoption of Python 3 can be shown by the number of Python packages that now provide Python 3 support, which at the time of writing includes 339 of the 360 most popular Python packages.\n",
    "\n",
    "\n",
    "पायथन 3 को पायथन के भविष्य के रूप में माना जाता है और यह उस भाषा का संस्करण है जो वर्तमान में विकास में है। भाषा के पिछले संस्करणों के आंतरिक डिजाइन दोषों को संबोधित करने और संशोधित करने के लिए 2008 में एक प्रमुख ओवरहाल, पायथन 3 जारी किया गया था। पायथन 3 विकास का फोकस कोडबेस को साफ करना और अतिरेक को दूर करना था, जिससे यह स्पष्ट हो गया कि किसी दिए गए कार्य को करने का केवल एक ही तरीका था।\n",
    "\n",
    "पायथन 3.0 के प्रमुख संशोधनों में प्रिंट स्टेटमेंट को एक अंतर्निहित फ़ंक्शन में बदलना, पूर्णांक विभाजित होने के तरीके में सुधार करना, और अधिक यूनिकोड समर्थन प्रदान करना शामिल है।\n",
    "\n",
    "सबसे पहले, पायथन 3 को धीरे-धीरे अपनाया गया क्योंकि भाषा पाइथन 2 के साथ पीछे की ओर संगत नहीं थी, लोगों को निर्णय लेने की आवश्यकता थी कि भाषा के किस संस्करण का उपयोग किया जाए। इसके अतिरिक्त, कई पैकेज पुस्तकालय केवल पायथन 2 के लिए उपलब्ध थे, लेकिन जैसा कि पायथन 3 के पीछे की विकास टीम ने दोहराया है कि पायथन 2 समर्थन के लिए जीवन का अंत है, अधिक पुस्तकालयों को पायथन 3 के लिए पोर्ट किया गया है। पायथन 3 की वृद्धि को अपनाया जा सकता है। पायथन पैकेजों की संख्या से पता चलता है कि अब पायथन 3 समर्थन प्रदान करते हैं, जो लेखन के समय 360 के सबसे लोकप्रिय पायथन पैकेजों में से 339 को शामिल करता है।\n",
    "\n",
    "\n",
    "## Python 2.7\n",
    "\n",
    "### Python 2.7.15 (2018)\n",
    "\n",
    "\n",
    "Following the 2008 release of Python 3.0, Python 2.7 was published on July 3, 2010 and planned as the last of the 2.x releases. The intention behind Python 2.7 was to make it easier for Python 2.x users to port features over to Python 3 by providing some measure of compatibility between the two. This compatibility support included enhanced modules for version 2.7 like unittest to support test automation, argparse for parsing command-line options, and more convenient classes in collections.\n",
    "\n",
    "Because of Python 2.7’s unique position as a version in between the earlier iterations of Python 2 and Python 3.0, it has persisted as a very popular choice for programmers due to its compatibility with many robust libraries. When we talk about Python 2 today, we are typically referring to the Python 2.7 release as that is the most frequently used version.\n",
    "\n",
    "Python 2.7, however, is considered to be a legacy language and its continued development, which today mostly consists of bug fixes, will cease completely in 2020.\n",
    "\n",
    "\n",
    "2008 में पायथन 3.0 की रिलीज़ के बाद, पायथन 2.7 को 3 जुलाई 2010 को प्रकाशित किया गया था और इसे 2.x रिलीज़ के आखिरी के रूप में योजनाबद्ध किया गया था। Python 2.7 के पीछे का उद्देश्य Python 2.x उपयोगकर्ताओं के लिए दोनों के बीच अनुकूलता के कुछ माप प्रदान करके Python 3 पर पोर्ट सुविधाओं को आसान बनाना था। इस संगतता समर्थन में वर्जन 2.7 के लिए वर्धित मॉड्यूल शामिल थे जैसे कि टेस्ट ऑटोमेशन का समर्थन करने के लिए unittest, पार्सिंग कमांड लाइन विकल्प के लिए argparse, और संग्रह में अधिक सुविधाजनक कक्षाएं।\n",
    "\n",
    "पायथन 2 और पायथन 3.0 के पहले पुनरावृत्तियों के बीच एक संस्करण के रूप में पायथन 2.7 की अद्वितीय स्थिति के कारण, यह कई मजबूत पुस्तकालयों के साथ अपनी संगतता के कारण प्रोग्रामर के लिए एक बहुत लोकप्रिय विकल्प के रूप में कायम है। जब हम आज पायथन 2 के बारे में बात करते हैं, तो हम आम तौर पर पायथन 2.7 रिलीज का उल्लेख कर रहे हैं क्योंकि यह सबसे अधिक बार उपयोग किया जाने वाला संस्करण है।\n",
    "\n",
    "हालाँकि, पाइथन 2.7 को एक विरासत भाषा माना जाता है और इसका निरंतर विकास, जिसमें आज ज्यादातर बग फिक्स शामिल हैं, 2020 में पूरी तरह से समाप्त हो जाएगा।\n",
    "\n",
    "\n",
    "### Key Differences\n",
    "While Python 2.7 and Python 3 share many similar capabilities, they should not be thought of as entirely interchangeable. Though you can write good code and useful programs in either version, it is worth understanding that there will be some considerable differences in code syntax and handling.\n",
    "\n",
    "\n",
    "जबकि पायथन 2.7 और पायथन 3 कई समान क्षमताओं को साझा करते हैं, उन्हें पूरी तरह से विनिमेय नहीं माना जाना चाहिए। यद्यपि आप किसी भी संस्करण में अच्छे कोड और उपयोगी कार्यक्रम लिख सकते हैं, यह समझने योग्य है कि कोड सिंटैक्स और हैंडलिंग में कुछ काफी अंतर होंगे।\n"
   ]
  },
  {
   "cell_type": "code",
   "execution_count": null,
   "metadata": {},
   "outputs": [],
   "source": []
  },
  {
   "cell_type": "code",
   "execution_count": null,
   "metadata": {},
   "outputs": [],
   "source": []
  }
 ],
 "metadata": {
  "kernelspec": {
   "display_name": "Python 3",
   "language": "python",
   "name": "python3"
  },
  "language_info": {
   "codemirror_mode": {
    "name": "ipython",
    "version": 3
   },
   "file_extension": ".py",
   "mimetype": "text/x-python",
   "name": "python",
   "nbconvert_exporter": "python",
   "pygments_lexer": "ipython3",
   "version": "3.7.4"
  }
 },
 "nbformat": 4,
 "nbformat_minor": 2
}
